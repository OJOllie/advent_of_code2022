{
 "cells": [
  {
   "cell_type": "code",
   "execution_count": 2,
   "id": "f668c430-5048-4043-975f-5f3af6e90ef9",
   "metadata": {},
   "outputs": [
    {
     "name": "stdout",
     "output_type": "stream",
     "text": [
      "70374\n"
     ]
    }
   ],
   "source": [
    "# Day 1\n",
    "\n",
    "# Open data and group based on split line\n",
    "with open(r\"C:\\Users\\obowden\\OneDrive - Ordnance Survey\\Python\\adventofcode\\calories.txt\") as o:\n",
    "    elves = o.read().split(\"\\n\"\"\\n\")\n",
    "    \n",
    "# Convert to comma seperated list from line seperated, then sum values and return max\n",
    "sums = []\n",
    "for i in range(len(elves)):\n",
    "\n",
    "    elf_total = sum(list(map(int, elves[i].splitlines())))\n",
    "\n",
    "    sums.append(elf_total)\n",
    "\n",
    "print(max(sums))\n",
    "\n"
   ]
  },
  {
   "cell_type": "code",
   "execution_count": 24,
   "id": "7b9fea57-4e92-49b3-b645-bae0efb9bedc",
   "metadata": {},
   "outputs": [
    {
     "data": {
      "text/plain": [
       "[119, 230, 209]"
      ]
     },
     "execution_count": 24,
     "metadata": {},
     "output_type": "execute_result"
    }
   ],
   "source": [
    "#part 2\n",
    "sorted(range(len(sums)), key=lambda i: sums[i])[-3:]\n",
    "max3= (sums[119], sums[230], sums[209])\n",
    "sum(max3)"
   ]
  },
  {
   "cell_type": "code",
   "execution_count": 45,
   "id": "d6c77bbd-5586-4334-b167-e393f3449b10",
   "metadata": {},
   "outputs": [
    {
     "data": {
      "text/plain": [
       "204610"
      ]
     },
     "execution_count": 45,
     "metadata": {},
     "output_type": "execute_result"
    }
   ],
   "source": []
  },
  {
   "cell_type": "code",
   "execution_count": 44,
   "id": "f241785d-be9f-4a37-86bf-3e865e0b979b",
   "metadata": {},
   "outputs": [
    {
     "data": {
      "text/plain": [
       "204610"
      ]
     },
     "execution_count": 44,
     "metadata": {},
     "output_type": "execute_result"
    }
   ],
   "source": []
  }
 ],
 "metadata": {
  "kernelspec": {
   "display_name": "Python 3 (ipykernel)",
   "language": "python",
   "name": "python3"
  },
  "language_info": {
   "codemirror_mode": {
    "name": "ipython",
    "version": 3
   },
   "file_extension": ".py",
   "mimetype": "text/x-python",
   "name": "python",
   "nbconvert_exporter": "python",
   "pygments_lexer": "ipython3",
   "version": "3.10.8"
  }
 },
 "nbformat": 4,
 "nbformat_minor": 5
}
