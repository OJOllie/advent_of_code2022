{
 "cells": [
  {
   "cell_type": "code",
   "execution_count": 53,
   "id": "f668c430-5048-4043-975f-5f3af6e90ef9",
   "metadata": {
    "tags": []
   },
   "outputs": [
    {
     "name": "stdout",
     "output_type": "stream",
     "text": [
      "70374\n"
     ]
    }
   ],
   "source": [
    "# Day 1\n",
    "\n",
    "# Open data and group based on split line\n",
    "with open(r\"C:\\Users\\obowden\\OneDrive - Ordnance Survey\\Python\\adventofcode\\calories.txt\") as o:\n",
    "    elves = o.read().split(\"\\n\"\"\\n\")\n",
    "    \n",
    "# Convert to comma seperated list from line seperated, then sum values and return max\n",
    "sums = []\n",
    "for i in range(len(elves)):\n",
    "\n",
    "    elf_total = sum(list(map(int, elves[i].splitlines())))\n",
    "\n",
    "    sums.append(elf_total)\n",
    "\n",
    "print(max(sums))\n",
    "\n"
   ]
  }
 ],
 "metadata": {
  "kernelspec": {
   "display_name": "Python 3 (ipykernel)",
   "language": "python",
   "name": "python3"
  },
  "language_info": {
   "codemirror_mode": {
    "name": "ipython",
    "version": 3
   },
   "file_extension": ".py",
   "mimetype": "text/x-python",
   "name": "python",
   "nbconvert_exporter": "python",
   "pygments_lexer": "ipython3",
   "version": "3.10.8"
  }
 },
 "nbformat": 4,
 "nbformat_minor": 5
}
